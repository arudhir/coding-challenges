{
 "cells": [
  {
   "cell_type": "markdown",
   "id": "582c5490-1fb9-4127-976a-11c9443f4005",
   "metadata": {},
   "source": [
    "# Gritstone Bio coding challenge\n",
    "\n",
    "Given a set of amino acids (representing desired targeted mutations), give a reduced representation of the codons that code for those amino acids using ambiguous nucleotides and calculate the final efficiency of the reduced representation (defined as `num_amino_acids_produced` / `num_amino_acids_desired`\n",
    "\n",
    "```python\n",
    "def get_codon_for_amino_acids(amino_acids):\n",
    "    \"\"\"\n",
    "    :param amino_acids: set\n",
    "        the amino acids we want to code for, i.e. {'A','I','V'}\n",
    "    :rtype: set, float\n",
    "        returns two values the set of most \n",
    "        efficient codons for the input set list, and the achieved efficiency e.g. 0.75\n",
    "    \"\"\"\n",
    "    pass\n",
    "\n",
    "def truncate_list_of_amino_acids(amino_acids):\n",
    "    \"\"\"\n",
    "    :param amino_acids: set\n",
    "        the amino acids we \n",
    "        want to code for, i.e. {'A','I','V'}\n",
    "    :rtype: set\n",
    "        the set of sets of amino acids that can be coded with 100% efficiency, \n",
    "        i.e. {frozenset({'V', 'A'}), frozenset({'V', 'I'})}\n",
    "    \"\"\"\n",
    "    pass\n",
    "```"
   ]
  },
  {
   "cell_type": "code",
   "execution_count": 1,
   "id": "a947d889-5f6b-4aa3-9d95-ae0325d39221",
   "metadata": {},
   "outputs": [],
   "source": [
    "from IPython.core.interactiveshell import InteractiveShell\n",
    "InteractiveShell.ast_node_interactivity = 'all'  # Print each expression in a cell, not just the last one\n",
    "\n",
    "from itertools import product, combinations\n",
    "from collections import Counter, defaultdict\n",
    "from pprint import pprint, pformat  # Pretty-print dictionaries\n",
    "import logging\n",
    "logging.basicConfig(\n",
    "    level=logging.INFO,\n",
    "    format= '[%(asctime)s] %(levelname)s - %(message)s',\n",
    "    datefmt='%H:%M:%S'\n",
    ")\n",
    "\n",
    "\n",
    "test_amino_acids = {'A', 'I', 'V'}\n",
    "test_answer = {'RYA', 'RYH', 'RYC', 'RYW', 'RYM', 'RYY', 'RYT'}"
   ]
  },
  {
   "cell_type": "markdown",
   "id": "2f7fd42c-f61d-4698-a131-a28106aa1b45",
   "metadata": {},
   "source": [
    "# Codon table and ambiguous nucleotide table"
   ]
  },
  {
   "cell_type": "code",
   "execution_count": 2,
   "id": "7b0bc0f2-7ff0-42a4-9f89-fa93e281ff27",
   "metadata": {
    "tags": []
   },
   "outputs": [],
   "source": [
    "translation_table = {\n",
    "    'TTT': 'F', 'TCT': 'S', 'TAT': 'Y', 'TGT': 'C',\n",
    "    'TTC': 'F', 'TCC': 'S', 'TAC': 'Y', 'TGC': 'C',\n",
    "    'TTA': 'L', 'TCA': 'S', 'TAA': '*', 'TGA': '*',\n",
    "    'TTG': 'L', 'TCG': 'S', 'TAG': '*', 'TGG': 'W',\n",
    "    'CTT': 'L', 'CCT': 'P', 'CAT': 'H', 'CGT': 'R',\n",
    "    'CTC': 'L', 'CCC': 'P', 'CAC': 'H', 'CGC': 'R',\n",
    "    'CTA': 'L', 'CCA': 'P', 'CAA': 'Q', 'CGA': 'R',\n",
    "    'CTG': 'L', 'CCG': 'P', 'CAG': 'Q', 'CGG': 'R',\n",
    "    'ATT': 'I', 'ACT': 'T', 'AAT': 'N', 'AGT': 'S',\n",
    "    'ATC': 'I', 'ACC': 'T', 'AAC': 'N', 'AGC': 'S',\n",
    "    'ATA': 'I', 'ACA': 'T', 'AAA': 'K', 'AGA': 'R',\n",
    "    'ATG': 'M', 'ACG': 'T', 'AAG': 'K', 'AGG': 'R',\n",
    "    'GTT': 'V', 'GCT': 'A', 'GAT': 'D', 'GGT': 'G',\n",
    "    'GTC': 'V', 'GCC': 'A', 'GAC': 'D', 'GGC': 'G',\n",
    "    'GTA': 'V', 'GCA': 'A', 'GAA': 'E', 'GGA': 'G',\n",
    "    'GTG': 'V', 'GCG': 'A', 'GAG': 'E', 'GGG': 'G'\n",
    "}\n",
    "\n",
    "# nomenclature for degenerate codons\n",
    "# W S M K R Y ==> 2 nucleotides\n",
    "# B D H V ==> 3 nucleotides\n",
    "# N ==> 4 nucleotides\n",
    "expanded_code = {\n",
    "    'A': ['A'], 'C': ['C'], 'G': ['G'], 'T': ['T'],\n",
    "    \n",
    "    'W': ['A', 'T'], 'S': ['C', 'G'], 'M': ['A', 'C'], \n",
    "    'K': ['G', 'T'], 'R': ['A', 'G'], 'Y': ['C', 'T'],\n",
    "    \n",
    "    'B': ['C', 'G', 'T'], 'D': ['A', 'G', 'T'], \n",
    "    'H': ['A', 'C', 'T'], 'V': ['A', 'C', 'G'],\n",
    "    \n",
    "    'N': ['A', 'C', 'G', 'T']\n",
    "}\n",
    "\n",
    "# expanded_code_lengths = {k: len(v) for k, v in expanded_code.items()}\n",
    "# expanded_code_lengths"
   ]
  },
  {
   "cell_type": "code",
   "execution_count": 3,
   "id": "871ff694-06f7-4c4e-88ac-d05acdf49638",
   "metadata": {
    "tags": []
   },
   "outputs": [],
   "source": [
    "from collections import defaultdict\n",
    "codon_table = defaultdict(list)\n",
    "for codon, aa in translation_table.items():\n",
    "    codon_table[aa].append(codon)\n",
    "\n",
    "# pprint(codon_table)\n",
    "\n",
    "degenerate_code = {\n",
    "    frozenset(v): k\n",
    "    for k, v in expanded_code.items()\n",
    "}\n",
    "\n",
    "# degenerate_code[frozenset(('S', 'K'))] = 'B'\n",
    "# def ambiguous_codon_table(codon_table):\n",
    "#     ambig_codon_table = {}\n",
    "#     for aa in codon_table.keys():\n",
    "#         ambig_codon_table[aa] = ''.join([degenerate_code[x] for x in map(frozenset, zip(*codon_table[aa]))])  # This gets the degenerate representation of the codon\n",
    "#     return ambig_codon_table\n",
    "# ambig_codon_table = ambiguous_codon_table(codon_table)\n",
    "# ambig_codon_table"
   ]
  },
  {
   "cell_type": "code",
   "execution_count": 36,
   "id": "53d3796b-2b39-4fb1-ad0c-30661946ebb3",
   "metadata": {},
   "outputs": [
    {
     "name": "stderr",
     "output_type": "stream",
     "text": [
      "[01:59:39] INFO - The current codon is: TTT\n",
      "[01:59:39] INFO - The current codon is: ATG\n",
      "[01:59:39] INFO - The reduced representation is: WTK\n",
      "[01:59:39] INFO - The current codon is: TTC\n",
      "[01:59:39] INFO - The current codon is: ATG\n",
      "[01:59:39] INFO - The reduced representation is: WTS\n",
      "[01:59:39] INFO - The current codon is: TTT\n",
      "[01:59:39] INFO - The current codon is: ATG\n",
      "[01:59:39] INFO - The current codon is: TTC\n",
      "[01:59:39] INFO - The current codon is: ATG\n",
      "[01:59:39] INFO - The reduced representation is: WTB\n",
      "[01:59:39] INFO - The expansion of W is ['A', 'T']\n",
      "[01:59:39] INFO - The expansion of T is ['T']\n",
      "[01:59:39] INFO - The expansion of B is ['C', 'G', 'T']\n",
      "[01:59:39] INFO - The codons are: ['ATC', 'ATG', 'ATT', 'TTC', 'TTG', 'TTT']\n",
      "[01:59:39] INFO - The expansion of W is ['A', 'T']\n",
      "[01:59:39] INFO - The expansion of T is ['T']\n",
      "[01:59:39] INFO - The expansion of S is ['C', 'G']\n",
      "[01:59:39] INFO - The codons are: ['ATC', 'ATG', 'TTC', 'TTG']\n",
      "[01:59:39] INFO - The expansion of W is ['A', 'T']\n",
      "[01:59:39] INFO - The expansion of T is ['T']\n",
      "[01:59:39] INFO - The expansion of K is ['G', 'T']\n",
      "[01:59:39] INFO - The codons are: ['ATG', 'ATT', 'TTG', 'TTT']\n"
     ]
    },
    {
     "data": {
      "text/plain": [
       "['WTB', 'WTS', 'WTK']"
      ]
     },
     "execution_count": 36,
     "metadata": {},
     "output_type": "execute_result"
    }
   ],
   "source": [
    "def reduce_codons(codons):\n",
    "    \"\"\"Reduces a list of codons to the ambiguous representation\"\"\"\n",
    "    pos1 = set()\n",
    "    pos2 = set()\n",
    "    pos3 = set()\n",
    "    \n",
    "    for codon in codons:\n",
    "        logging.info(f'The current codon is: {codon}')\n",
    "        pos1.add(codon[0])\n",
    "        pos2.add(codon[1])\n",
    "        pos3.add(codon[2])\n",
    "    expanded_ambiguous_codon = [frozenset(pos1), frozenset(pos2), frozenset(pos3)]\n",
    "    # logging.info(f'The expanded ambiguous codon representation is: {expanded_ambiguous_codon}')\n",
    "    ambiguous_codon = ''.join([degenerate_code.get(p) for p in expanded_ambiguous_codon])\n",
    "    logging.info(f'The reduced representation is: {ambiguous_codon}')\n",
    "    return ambiguous_codon\n",
    "\n",
    "def expand_codon(codon):\n",
    "    \"\"\"Expands degenerate codon to a list of their canonical form\n",
    "    \n",
    "    ::doctest::\n",
    "    >>> expand_codon('RYA')\n",
    "    ['ACA', 'ATA', 'GCA', 'GTA']\n",
    "    \"\"\"\n",
    "    expansion = []\n",
    "    for nt in codon:\n",
    "        nts = expanded_code[nt]\n",
    "        logging.info(f'The expansion of {nt} is {nts}')\n",
    "        expansion.append(nts)\n",
    "    expansion_product = product(*expansion)\n",
    "    codons = list(map(lambda x: ''.join(x), expansion_product))\n",
    "    logging.info(f'The codons are: {codons}')\n",
    "    codons = list(map(lambda x: ''.join(x), (product(*[expanded_code[nt] for nt in codon]))))\n",
    "    return codons\n",
    "\n",
    "def codons_to_amino_acids(codons):\n",
    "    \"\"\"Turn a list of codons to the amino acids they code for\"\"\"\n",
    "    amino_acids = [translation_table[c] for c in codons]\n",
    "    return amino_acids\n",
    "\n",
    "def degenerate_codon_to_amino_acids(codon):\n",
    "    \"\"\"Turn a degenerate codon into the amino acids made\"\"\"\n",
    "    return frozenset(codons_to_amino_acids(expand_codon(codon)))\n",
    "\n",
    "def flatten(l):\n",
    "    return [x for y in l for x in y]\n",
    "\n",
    "test_amino_acids = {'M', 'F'}\n",
    "# test_amino_acids = {'A', 'I', 'V'}\n",
    "test_codons = list(product(*[codon_table[aa] for aa in test_amino_acids]))\n",
    "\n",
    "coding_efficiencies = {}\n",
    "\n",
    "# I don't like this logic but I'm out of time; \n",
    "# this makes the {M, F} case successfully give 'WTB' in addition to WTK and WTS\n",
    "reduced_codons = set([reduce_codons(c) for c in test_codons] + [reduce_codons(flatten(test_codons))])\n",
    "for dcodon in reduced_codons:\n",
    "    aas = degenerate_codon_to_amino_acids(dcodon)\n",
    "    coding_efficiencies[dcodon] = len(test_amino_acids) / len(aas)\n",
    "\n",
    "    \n",
    "max_efficiency = max(coding_efficiencies.values())\n",
    "[k for k, v in coding_efficiencies.items() if v >= max_efficiency]"
   ]
  },
  {
   "cell_type": "code",
   "execution_count": 20,
   "id": "a563263b-49b3-45ac-b84e-750f7640fd95",
   "metadata": {},
   "outputs": [],
   "source": [
    "def get_codon_for_amino_acids(amino_acids):\n",
    "    \"\"\"\n",
    "    :param amino_acids: set\n",
    "        the amino acids we want to code for, i.e. {'A','I','V'}\n",
    "    :rtype: set, float\n",
    "        returns two values the set of most efficient codons for the input set list, \n",
    "        e.g. {'RYA', 'RYH', 'RYC', 'RYW', 'RYM', 'RYY', 'RYT'} and the achieved efficiency e.g. 0.75\n",
    "    \"\"\"\n",
    "    codons = list(product(*[codon_table[aa] for aa in amino_acids]))\n",
    "    coding_efficiencies = {}\n",
    "    reduced_codons = set([reduce_codons(c) for c in codons] + [reduce_codons(flatten(codons))])\n",
    "    for dcodon in reduced_codons:\n",
    "        aas = degenerate_codon_to_amino_acids(dcodon)\n",
    "        coding_efficiencies[dcodon] = len(amino_acids) / len(aas)\n",
    "    max_efficiency = max(coding_efficiencies.values())\n",
    "    efficient_codons = set([k for k, v in coding_efficiencies.items() if v >= max_efficiency])\n",
    "    return efficient_codons, max_efficiency\n"
   ]
  },
  {
   "cell_type": "code",
   "execution_count": 5,
   "id": "cb6e12e0-800f-476a-978e-c7ef567f4402",
   "metadata": {},
   "outputs": [
    {
     "ename": "NameError",
     "evalue": "name 'ambig_codon_table' is not defined",
     "output_type": "error",
     "traceback": [
      "\u001b[0;31m---------------------------------------------------------------------------\u001b[0m",
      "\u001b[0;31mNameError\u001b[0m                                 Traceback (most recent call last)",
      "Input \u001b[0;32mIn [5]\u001b[0m, in \u001b[0;36m<cell line: 4>\u001b[0;34m()\u001b[0m\n\u001b[1;32m      1\u001b[0m test_amino_acids \u001b[38;5;241m=\u001b[39m {\u001b[38;5;124m'\u001b[39m\u001b[38;5;124mA\u001b[39m\u001b[38;5;124m'\u001b[39m, \u001b[38;5;124m'\u001b[39m\u001b[38;5;124mI\u001b[39m\u001b[38;5;124m'\u001b[39m, \u001b[38;5;124m'\u001b[39m\u001b[38;5;124mV\u001b[39m\u001b[38;5;124m'\u001b[39m} \u001b[38;5;66;03m# == {'RYA', 'RYH', 'RYC', 'RYW', 'RYM', 'RYY', 'RYT'}\u001b[39;00m\n\u001b[1;32m      2\u001b[0m \u001b[38;5;66;03m# test_amino_acids = {'M', 'F'}  # {{'ATG'}, {'TTT', 'TTC'}} {'WTS', 'WTK', \"WTB\"}\u001b[39;00m\n\u001b[0;32m----> 4\u001b[0m ambig_codons \u001b[38;5;241m=\u001b[39m [ambig_codon_table[aa] \u001b[38;5;28;01mfor\u001b[39;00m aa \u001b[38;5;129;01min\u001b[39;00m test_amino_acids]\n\u001b[1;32m      5\u001b[0m \u001b[38;5;28mprint\u001b[39m(ambig_codons)\n\u001b[1;32m      6\u001b[0m nts_at_pos \u001b[38;5;241m=\u001b[39m \u001b[38;5;28mlist\u001b[39m(\u001b[38;5;28mmap\u001b[39m(\u001b[38;5;28mfrozenset\u001b[39m, \u001b[38;5;28mzip\u001b[39m(\u001b[38;5;241m*\u001b[39mambig_codons)))\n",
      "Input \u001b[0;32mIn [5]\u001b[0m, in \u001b[0;36m<listcomp>\u001b[0;34m(.0)\u001b[0m\n\u001b[1;32m      1\u001b[0m test_amino_acids \u001b[38;5;241m=\u001b[39m {\u001b[38;5;124m'\u001b[39m\u001b[38;5;124mA\u001b[39m\u001b[38;5;124m'\u001b[39m, \u001b[38;5;124m'\u001b[39m\u001b[38;5;124mI\u001b[39m\u001b[38;5;124m'\u001b[39m, \u001b[38;5;124m'\u001b[39m\u001b[38;5;124mV\u001b[39m\u001b[38;5;124m'\u001b[39m} \u001b[38;5;66;03m# == {'RYA', 'RYH', 'RYC', 'RYW', 'RYM', 'RYY', 'RYT'}\u001b[39;00m\n\u001b[1;32m      2\u001b[0m \u001b[38;5;66;03m# test_amino_acids = {'M', 'F'}  # {{'ATG'}, {'TTT', 'TTC'}} {'WTS', 'WTK', \"WTB\"}\u001b[39;00m\n\u001b[0;32m----> 4\u001b[0m ambig_codons \u001b[38;5;241m=\u001b[39m [\u001b[43mambig_codon_table\u001b[49m[aa] \u001b[38;5;28;01mfor\u001b[39;00m aa \u001b[38;5;129;01min\u001b[39;00m test_amino_acids]\n\u001b[1;32m      5\u001b[0m \u001b[38;5;28mprint\u001b[39m(ambig_codons)\n\u001b[1;32m      6\u001b[0m nts_at_pos \u001b[38;5;241m=\u001b[39m \u001b[38;5;28mlist\u001b[39m(\u001b[38;5;28mmap\u001b[39m(\u001b[38;5;28mfrozenset\u001b[39m, \u001b[38;5;28mzip\u001b[39m(\u001b[38;5;241m*\u001b[39mambig_codons)))\n",
      "\u001b[0;31mNameError\u001b[0m: name 'ambig_codon_table' is not defined"
     ]
    }
   ],
   "source": [
    "test_amino_acids = {'A', 'I', 'V'} # == {'RYA', 'RYH', 'RYC', 'RYW', 'RYM', 'RYY', 'RYT'}\n",
    "# test_amino_acids = {'M', 'F'}  # {{'ATG'}, {'TTT', 'TTC'}} {'WTS', 'WTK', \"WTB\"}\n",
    "\n",
    "ambig_codons = [ambig_codon_table[aa] for aa in test_amino_acids]\n",
    "print(ambig_codons)\n",
    "nts_at_pos = list(map(frozenset, zip(*ambig_codons)))\n",
    "\n",
    "codons = []\n",
    "\n",
    "def calculate_degeneracy(nts):\n",
    "    return sum(expanded_code_lengths[nt] for nt in nts)\n",
    "\n",
    "\n",
    "for nts in nts_at_pos:\n",
    "    degeneracy = calculate_degeneracy(nts)\n",
    "    print(f'The degeneracy of {nts} is {degeneracy}')\n",
    "    if degeneracy <= len(test_amino_acids):\n",
    "        codons.append([degenerate_code[nts]])\n",
    "    else:  # In this case, we need to explore all the options\n",
    "        expansion = [expanded_code[nt] for nt in nts]\n",
    "        print(f'Expansion is: {expansion}')\n",
    "        fully_degnerate_nts = [degenerate_code[frozenset(flatten(expansion))]]\n",
    "        combination = list(map(frozenset, product(*expansion)))\n",
    "        semidegenerate_nt = [degenerate_code[x] for x in combination]\n",
    "        \n",
    "        # fully_degnerate_nts\n",
    "        # semidegenerate_nt\n",
    "        \n",
    "        degenerates = fully_degnerate_nts + semidegenerate_nt\n",
    "        codons.append(degenerates)\n",
    "\n",
    "#       # print(nts)\n",
    "        # min_degenerate = min(nts, key=lambda x: expanded_code_lengths[x])  # Buggy for M, F -- I think we need the minimum\n",
    "        # codons.append(\n",
    "        #     list(\n",
    "        #         map(\n",
    "        #             lambda x: degenerate_code[frozenset(x)], \n",
    "        #             product(*[expanded_code[min_degenerate] for nt in nts])\n",
    "        #         )\n",
    "        #     )\n",
    "        # )\n",
    "list(map(lambda x: ''.join(x), product(*codons)))"
   ]
  },
  {
   "cell_type": "code",
   "execution_count": 4,
   "id": "7b639a4d-61f7-4ca7-9dd0-7eff68c4932a",
   "metadata": {},
   "outputs": [
    {
     "name": "stdout",
     "output_type": "stream",
     "text": [
      "defaultdict(<class 'list'>,\n",
      "            {'*': ['TAA', 'TGA', 'TAG'],\n",
      "             'A': ['GCT', 'GCC', 'GCA', 'GCG'],\n",
      "             'C': ['TGT', 'TGC'],\n",
      "             'D': ['GAT', 'GAC'],\n",
      "             'E': ['GAA', 'GAG'],\n",
      "             'F': ['TTT', 'TTC'],\n",
      "             'G': ['GGT', 'GGC', 'GGA', 'GGG'],\n",
      "             'H': ['CAT', 'CAC'],\n",
      "             'I': ['ATT', 'ATC', 'ATA'],\n",
      "             'K': ['AAA', 'AAG'],\n",
      "             'L': ['TTA', 'TTG', 'CTT', 'CTC', 'CTA', 'CTG'],\n",
      "             'M': ['ATG'],\n",
      "             'N': ['AAT', 'AAC'],\n",
      "             'P': ['CCT', 'CCC', 'CCA', 'CCG'],\n",
      "             'Q': ['CAA', 'CAG'],\n",
      "             'R': ['CGT', 'CGC', 'CGA', 'CGG', 'AGA', 'AGG'],\n",
      "             'S': ['TCT', 'TCC', 'TCA', 'TCG', 'AGT', 'AGC'],\n",
      "             'T': ['ACT', 'ACC', 'ACA', 'ACG'],\n",
      "             'V': ['GTT', 'GTC', 'GTA', 'GTG'],\n",
      "             'W': ['TGG'],\n",
      "             'Y': ['TAT', 'TAC']})\n"
     ]
    }
   ],
   "source": []
  },
  {
   "cell_type": "code",
   "execution_count": 88,
   "id": "fc168d87-8e3b-44c8-b2fb-5ee76fda3471",
   "metadata": {},
   "outputs": [
    {
     "data": {
      "text/plain": [
       "['GTN', 'GCN', 'ATH']"
      ]
     },
     "execution_count": 88,
     "metadata": {},
     "output_type": "execute_result"
    }
   ],
   "source": [
    "ambig_codons"
   ]
  },
  {
   "cell_type": "markdown",
   "id": "0270e457-c42f-4657-a667-1b890f81b013",
   "metadata": {},
   "source": [
    "**Observation** Generally for the amino acids, the first two nucleotides in the codons are static and the third one is changing. I am now recalling the concept of a \"wobble base pair\". I wonder if there's a slicker solution to this problem that exploits that.\n",
    "\n",
    "Anyways, we can now at least get the set of non-ambiguous codons that would create our amino acid set (just to get a feel for what's going on)"
   ]
  },
  {
   "cell_type": "code",
   "execution_count": 55,
   "id": "93892b3f-b854-46fc-acf5-9826012af744",
   "metadata": {},
   "outputs": [
    {
     "data": {
      "text/plain": [
       "[('ATG', 'TTT'), ('ATG', 'TTC')]"
      ]
     },
     "execution_count": 152,
     "metadata": {},
     "output_type": "execute_result"
    }
   ],
   "source": [
    "test_codons = list(product(*[codon_table[aa] for aa in test_amino_acids]))\n",
    "test_codons"
   ]
  },
  {
   "cell_type": "markdown",
   "id": "477877a9-fd05-457b-b822-0c6598296d9f",
   "metadata": {},
   "source": [
    "For the example amino acid set, we notice that the count of nucleotides at each codon position is\n",
    "\n",
    "    * Position 0: {G: 2, A: 1}\n",
    "    * Position 1: {T: 2, C: 1}\n",
    "    * Position 2: {T: 3, C: 3, A: 3, G: 2}\n",
    "\n",
    "A lazy could be `RYN`, which kind of matches up with the given answer.\n",
    "\n",
    "I think the naive algorithm is:\n",
    "\n",
    "    1. If the count of the # of nucleotides at each position == len(amino_acids): just get the ambiguous nucleotide for that set\n",
    "    2. Else, if the count > the # of nucleotides, for each nucleotide that has a count == len(amino_acids), get the ambiguous nucleotide corresponding to all combinations\n",
    "    \n",
    "We'll write a quick helper function that gets the set of nucleotides at each position"
   ]
  },
  {
   "cell_type": "code",
   "execution_count": 69,
   "id": "25505010-7a5a-4c76-b628-e4764be8b76f",
   "metadata": {},
   "outputs": [
    {
     "data": {
      "text/plain": [
       "{0: defaultdict(int, {'A': 3}),\n",
       " 1: defaultdict(int, {'T': 3}),\n",
       " 2: defaultdict(int, {'T': 1, 'C': 1, 'A': 1})}"
      ]
     },
     "execution_count": 69,
     "metadata": {},
     "output_type": "execute_result"
    }
   ],
   "source": [
    "def nt_count_at_codon_positions(codons):\n",
    "    count_by_position = {\n",
    "        0: defaultdict(int), \n",
    "        1: defaultdict(int), \n",
    "        2: defaultdict(int)\n",
    "    }\n",
    "    for codon in codons:\n",
    "        for i, nt in enumerate(codon):\n",
    "            count_by_position[i][nt] += 1\n",
    "    return count_by_position\n",
    "\n",
    "nt_count_at_codon_positions(codons)"
   ]
  },
  {
   "cell_type": "code",
   "execution_count": 56,
   "id": "dff66deb-878e-468f-b6d7-679e04abfba3",
   "metadata": {},
   "outputs": [
    {
     "data": {
      "text/plain": [
       "{0: defaultdict(int, {'G': 96, 'A': 48}),\n",
       " 1: defaultdict(int, {'T': 96, 'C': 48}),\n",
       " 2: defaultdict(int, {'T': 40, 'C': 40, 'A': 40, 'G': 24})}"
      ]
     },
     "execution_count": 56,
     "metadata": {},
     "output_type": "execute_result"
    }
   ],
   "source": [
    "def count_nucleotides_by_position(codon_list):\n",
    "    \"\"\"Given a collection of a collection of codons, return the count of unique nucleotides at \n",
    "    each codon position (i.e., at index 0, 1, and 2)\n",
    "    \"\"\"\n",
    "    nt_pos_counts = {\n",
    "        0: defaultdict(int),\n",
    "        1: defaultdict(int),\n",
    "        2: defaultdict(int)\n",
    "    }\n",
    "    \n",
    "    for codons in codon_list:\n",
    "        for codon in codons:\n",
    "            for i, nt in enumerate(codon):\n",
    "                nt_pos_counts[i][nt] += 1\n",
    "    return nt_pos_counts\n",
    "\n",
    "count_nucleotides_by_position(test_codons)\n",
    "# [codon for codon_list in test_codons for codon in codon_list]"
   ]
  },
  {
   "cell_type": "code",
   "execution_count": 6,
   "id": "95f29d13-9a0e-499d-9e1e-632f52900b94",
   "metadata": {},
   "outputs": [],
   "source": [
    "aa2codons = defaultdict(list)\n",
    "for k, v in translation_table.items():\n",
    "    aa2codons[v].append(k)\n",
    "# aa2codon\n",
    "\n",
    "\n",
    "# Since frozensets are immutable they are hashable and can thus be keys in a dictionary\n",
    "degenerate_code = {\n",
    "    frozenset(v): k\n",
    "    for k, v in expanded_code.items()\n",
    "}\n",
    "\n",
    "degenerate_translation_table = {\n",
    "    '*': 'TRR',\n",
    "    'A': 'GCN',\n",
    "    'C': 'TGY',\n",
    "    'D': 'GAY',\n",
    "    'E': 'GAR',\n",
    "    'F': 'TTY',\n",
    "    'G': 'GGN',\n",
    "    'H': 'CAY',\n",
    "    'I': 'ATH',\n",
    "    'K': 'AAR',\n",
    "    'L': 'YTN',\n",
    "    'M': 'ATG',\n",
    "    'N': 'AAY',\n",
    "    'P': 'CCN',\n",
    "    'Q': 'CAR',\n",
    "    'R': 'MGN',\n",
    "    'S': 'WSN',\n",
    "    'T': 'ACN',\n",
    "    'V': 'GTN',\n",
    "    'W': 'TGG',\n",
    "    'Y': 'TAY'\n",
    "}"
   ]
  },
  {
   "cell_type": "code",
   "execution_count": null,
   "id": "81961ad8-6357-4b0e-9138-6ef3dfde7eaf",
   "metadata": {},
   "outputs": [],
   "source": []
  },
  {
   "cell_type": "code",
   "execution_count": 42,
   "id": "f5238abd-fddb-4caf-b4d5-cbae2b73a4c2",
   "metadata": {},
   "outputs": [
    {
     "ename": "KeyboardInterrupt",
     "evalue": "",
     "output_type": "error",
     "traceback": [
      "\u001b[0;31m---------------------------------------------------------------------------\u001b[0m",
      "\u001b[0;31mKeyboardInterrupt\u001b[0m                         Traceback (most recent call last)",
      "Input \u001b[0;32mIn [42]\u001b[0m, in \u001b[0;36m<cell line: 39>\u001b[0;34m()\u001b[0m\n\u001b[1;32m     36\u001b[0m codon \u001b[38;5;241m=\u001b[39m \u001b[38;5;124m'\u001b[39m\u001b[38;5;124mRYA\u001b[39m\u001b[38;5;124m'\u001b[39m\n\u001b[1;32m     38\u001b[0m selected_codons \u001b[38;5;241m=\u001b[39m []\n\u001b[0;32m---> 39\u001b[0m \u001b[38;5;28;01mfor\u001b[39;00m codon \u001b[38;5;129;01min\u001b[39;00m \u001b[38;5;28;43mset\u001b[39;49m\u001b[43m(\u001b[49m\u001b[38;5;28;43mmap\u001b[39;49m\u001b[43m(\u001b[49m\u001b[43mreduce_codons\u001b[49m\u001b[43m,\u001b[49m\u001b[43m \u001b[49m\u001b[43m(\u001b[49m\u001b[43mproduct\u001b[49m\u001b[43m(\u001b[49m\u001b[38;5;241;43m*\u001b[39;49m\u001b[43mcodon_table\u001b[49m\u001b[38;5;241;43m.\u001b[39;49m\u001b[43mvalues\u001b[49m\u001b[43m(\u001b[49m\u001b[43m)\u001b[49m\u001b[43m)\u001b[49m\u001b[43m)\u001b[49m\u001b[43m)\u001b[49m\u001b[43m)\u001b[49m:\n\u001b[1;32m     40\u001b[0m     amino_acids \u001b[38;5;241m=\u001b[39m degenerate_codon_to_amino_acids(codon)\n",
      "Input \u001b[0;32mIn [42]\u001b[0m, in \u001b[0;36mreduce_codons\u001b[0;34m(codons)\u001b[0m\n\u001b[1;32m     10\u001b[0m \u001b[38;5;28;01mfor\u001b[39;00m codon \u001b[38;5;129;01min\u001b[39;00m codons:\n\u001b[1;32m     11\u001b[0m     nt1\u001b[38;5;241m.\u001b[39madd(codon[\u001b[38;5;241m0\u001b[39m])\n\u001b[0;32m---> 12\u001b[0m     \u001b[43mnt2\u001b[49m\u001b[38;5;241;43m.\u001b[39;49m\u001b[43madd\u001b[49m\u001b[43m(\u001b[49m\u001b[43mcodon\u001b[49m\u001b[43m[\u001b[49m\u001b[38;5;241;43m1\u001b[39;49m\u001b[43m]\u001b[49m\u001b[43m)\u001b[49m\n\u001b[1;32m     13\u001b[0m     nt3\u001b[38;5;241m.\u001b[39madd(codon[\u001b[38;5;241m2\u001b[39m])\n\u001b[1;32m     14\u001b[0m deduped \u001b[38;5;241m=\u001b[39m \u001b[38;5;28mlist\u001b[39m(\u001b[38;5;28mmap\u001b[39m(\u001b[38;5;28;01mlambda\u001b[39;00m x: degenerate_code[\u001b[38;5;28mfrozenset\u001b[39m(x)], [nt1, nt2, nt3]))\n",
      "\u001b[0;31mKeyboardInterrupt\u001b[0m: "
     ]
    }
   ],
   "source": [
    "def reduce_codons(codons):\n",
    "    \"\"\"Create reduced representation of a list of codons by finding the degenerate representation of the collection of codons\n",
    "    \n",
    "    n.b., this is a more explicit form of something unreadable but slicker like map(set, zip(*codons))\n",
    "    \"\"\"\n",
    "    nt1 = set()\n",
    "    nt2 = set()\n",
    "    nt3 = set()\n",
    "    \n",
    "    for codon in codons:\n",
    "        nt1.add(codon[0])\n",
    "        nt2.add(codon[1])\n",
    "        nt3.add(codon[2])\n",
    "    deduped = list(map(lambda x: degenerate_code[frozenset(x)], [nt1, nt2, nt3]))\n",
    "    return ''.join(deduped)\n",
    "\n",
    "def expand_codon(codon):\n",
    "    \"\"\"Expands degenerate codon to a list of their canonical form\n",
    "    \n",
    "    ::doctest::\n",
    "    >>> expand_codon('RYA')\n",
    "    ['ACA', 'ATA', 'GCA', 'GTA']\n",
    "    \"\"\"\n",
    "    codons = list(map(lambda x: ''.join(x), (product(*[expanded_code[nt] for nt in codon]))))\n",
    "    return codons\n",
    "\n",
    "def codons_to_amino_acids(codons):\n",
    "    \"\"\"Turn a list of codons to the amino acids they code for\"\"\"\n",
    "    amino_acids = [translation_table[c] for c in codons]\n",
    "    return amino_acids\n",
    "\n",
    "def degenerate_codon_to_amino_acids(codon):\n",
    "    \"\"\"Turn a degenerate codon into the amino acids made\"\"\"\n",
    "    return frozenset(codons_to_amino_acids(expand_codon(codon)))\n",
    "\n",
    "codon = 'RYA'\n",
    "\n",
    "selected_codons = []\n",
    "for codon in set(map(reduce_codons, (product(*codon_table.values())))):\n",
    "    amino_acids = degenerate_codon_to_amino_acids(codon)"
   ]
  },
  {
   "cell_type": "code",
   "execution_count": null,
   "id": "dc219f24-8116-4a1c-9c71-7530ecdc6dce",
   "metadata": {},
   "outputs": [],
   "source": [
    "degenerate_codon_to_amino_acids('RYA')"
   ]
  },
  {
   "cell_type": "code",
   "execution_count": 188,
   "id": "bfa85320-abba-479f-970a-635671b6fe61",
   "metadata": {},
   "outputs": [
    {
     "data": {
      "text/plain": [
       "{frozenset({'A', 'I', 'T', 'V'}), frozenset({'A', 'I', 'M', 'T', 'V'})}"
      ]
     },
     "execution_count": 188,
     "metadata": {},
     "output_type": "execute_result"
    }
   ],
   "source": [
    "set([degenerate_codon_to_amino_acids(codon) for codon in set(map(reduce_codons, (product(*aa2nts.values()))))])"
   ]
  },
  {
   "cell_type": "code",
   "execution_count": 178,
   "id": "570ad87d-9b1a-4375-8b1c-7b22787b1619",
   "metadata": {},
   "outputs": [
    {
     "data": {
      "text/plain": [
       "'V'"
      ]
     },
     "execution_count": 178,
     "metadata": {},
     "output_type": "execute_result"
    }
   ],
   "source": [
    "min(degenerate_codon_to_amino_acids(codon), key=lambda x: len(x))"
   ]
  },
  {
   "cell_type": "code",
   "execution_count": 173,
   "id": "df071550-9028-4f56-96cf-f91086a6151e",
   "metadata": {},
   "outputs": [
    {
     "data": {
      "text/plain": [
       "{'A', 'I', 'T', 'V'}"
      ]
     },
     "execution_count": 173,
     "metadata": {},
     "output_type": "execute_result"
    },
    {
     "data": {
      "text/plain": [
       "{'A', 'I', 'T', 'V'}"
      ]
     },
     "execution_count": 173,
     "metadata": {},
     "output_type": "execute_result"
    },
    {
     "data": {
      "text/plain": [
       "{'A', 'I', 'M', 'T', 'V'}"
      ]
     },
     "execution_count": 173,
     "metadata": {},
     "output_type": "execute_result"
    },
    {
     "data": {
      "text/plain": [
       "{'A', 'I', 'T', 'V'}"
      ]
     },
     "execution_count": 173,
     "metadata": {},
     "output_type": "execute_result"
    },
    {
     "data": {
      "text/plain": [
       "{'A', 'I', 'M', 'T', 'V'}"
      ]
     },
     "execution_count": 173,
     "metadata": {},
     "output_type": "execute_result"
    },
    {
     "data": {
      "text/plain": [
       "{'A', 'I', 'T', 'V'}"
      ]
     },
     "execution_count": 173,
     "metadata": {},
     "output_type": "execute_result"
    },
    {
     "data": {
      "text/plain": [
       "{'A', 'I', 'M', 'T', 'V'}"
      ]
     },
     "execution_count": 173,
     "metadata": {},
     "output_type": "execute_result"
    },
    {
     "data": {
      "text/plain": [
       "{'A', 'I', 'T', 'V'}"
      ]
     },
     "execution_count": 173,
     "metadata": {},
     "output_type": "execute_result"
    },
    {
     "data": {
      "text/plain": [
       "{'A', 'I', 'M', 'T', 'V'}"
      ]
     },
     "execution_count": 173,
     "metadata": {},
     "output_type": "execute_result"
    },
    {
     "data": {
      "text/plain": [
       "{'A', 'I', 'M', 'T', 'V'}"
      ]
     },
     "execution_count": 173,
     "metadata": {},
     "output_type": "execute_result"
    },
    {
     "data": {
      "text/plain": [
       "{'A', 'I', 'T', 'V'}"
      ]
     },
     "execution_count": 173,
     "metadata": {},
     "output_type": "execute_result"
    },
    {
     "data": {
      "text/plain": [
       "{'A', 'I', 'M', 'T', 'V'}"
      ]
     },
     "execution_count": 173,
     "metadata": {},
     "output_type": "execute_result"
    },
    {
     "data": {
      "text/plain": [
       "{'A', 'I', 'T', 'V'}"
      ]
     },
     "execution_count": 173,
     "metadata": {},
     "output_type": "execute_result"
    }
   ],
   "source": [
    "def expand_codon(codon):\n",
    "    \"\"\"Expands degenerate codon to a list of their canonical form\n",
    "    \n",
    "    ::doctest::\n",
    "    >>> expand_codon('RYA')\n",
    "    ['ACA', 'ATA', 'GCA', 'GTA']\n",
    "    \"\"\"\n",
    "    codons = list(map(lambda x: ''.join(x), (product(*[expanded_code[nt] for nt in codon]))))\n",
    "    return codons\n",
    "\n",
    "def codons_to_amino_acids(codons):\n",
    "    \"\"\"Turn a list of codons to the amino acids they code for\"\"\"\n",
    "    amino_acids = [translation_table[c] for c in codons]\n",
    "    return amino_acids\n",
    "\n",
    "def degenerate_codon_to_amino_acids(codon):\n",
    "    \"\"\"Turn a degenerate codon into the amino acids made\"\"\"\n",
    "    return set(codons_to_amino_acids(expand_codon(codon)))\n",
    "\n",
    "codon = 'RYA'\n",
    "# degenerate_codon_to_amino_acids(codon)\n",
    "\n",
    "for codon in set(map(reduce_codons, (product(*aa2nts.values())))):\n",
    "    degenerate_codon_to_amino_acids(codon)"
   ]
  },
  {
   "cell_type": "code",
   "execution_count": 117,
   "id": "208deb04-2998-4d08-bef7-7aca3b310a02",
   "metadata": {},
   "outputs": [
    {
     "data": {
      "text/plain": [
       "['R', 'Y', 'N']"
      ]
     },
     "execution_count": 117,
     "metadata": {},
     "output_type": "execute_result"
    }
   ],
   "source": [
    "aa2nts = {}\n",
    "for aa in amino_acids:\n",
    "    codons = aa2codons[aa]\n",
    "    unique_nts = list(map(lambda x: list(set(x)), zip(*codons)))\n",
    "    aa2nts[aa] = list(map(lambda x: ''.join(x), (product(*unique_nts))))\n",
    "    \n",
    "nt1 = set()\n",
    "nt2 = set()\n",
    "nt3 = set()\n",
    "\n",
    "for codons in list(product(*aa2nts.values())):\n",
    "    for codon in codons:\n",
    "        nt1.add(codon[0])\n",
    "        nt2.add(codon[1])\n",
    "        nt3.add(codon[2])\n",
    "[degenerate_code[frozenset(nt)] for nt in [nt1, nt2, nt3]]"
   ]
  },
  {
   "cell_type": "code",
   "execution_count": 112,
   "id": "10919254-d24e-44fa-b3f1-cb62fa4f737a",
   "metadata": {},
   "outputs": [
    {
     "data": {
      "text/plain": [
       "['R', 'Y', 'N']"
      ]
     },
     "execution_count": 112,
     "metadata": {},
     "output_type": "execute_result"
    }
   ],
   "source": []
  },
  {
   "cell_type": "code",
   "execution_count": 114,
   "id": "e2aa74e3-8687-4e6a-97cd-05ab85aeffe9",
   "metadata": {},
   "outputs": [
    {
     "data": {
      "text/plain": [
       "{'C', 'T'}"
      ]
     },
     "execution_count": 114,
     "metadata": {},
     "output_type": "execute_result"
    }
   ],
   "source": [
    "nt2"
   ]
  },
  {
   "cell_type": "code",
   "execution_count": 56,
   "id": "0f5b1697-4e46-4bbf-b1ff-cb0b74fce4e8",
   "metadata": {},
   "outputs": [],
   "source": [
    "aa2codon = defaultdict(list)\n",
    "for k, v in translation_table.items():\n",
    "    aa2codon[v].append(k)\n",
    "\n",
    "\n"
   ]
  },
  {
   "cell_type": "code",
   "execution_count": 57,
   "id": "7eae9ea0-a994-4542-af7f-530946542c8b",
   "metadata": {},
   "outputs": [
    {
     "data": {
      "text/plain": [
       "{frozenset({'A'}): 'A',\n",
       " frozenset({'C'}): 'C',\n",
       " frozenset({'G'}): 'G',\n",
       " frozenset({'T'}): 'T',\n",
       " frozenset({'A', 'T'}): 'W',\n",
       " frozenset({'C', 'G'}): 'S',\n",
       " frozenset({'A', 'C'}): 'M',\n",
       " frozenset({'G', 'T'}): 'K',\n",
       " frozenset({'A', 'G'}): 'R',\n",
       " frozenset({'C', 'T'}): 'Y',\n",
       " frozenset({'C', 'G', 'T'}): 'B',\n",
       " frozenset({'A', 'G', 'T'}): 'D',\n",
       " frozenset({'A', 'C', 'T'}): 'H',\n",
       " frozenset({'A', 'C', 'G'}): 'V',\n",
       " frozenset({'A', 'C', 'G', 'T'}): 'N'}"
      ]
     },
     "execution_count": 57,
     "metadata": {},
     "output_type": "execute_result"
    }
   ],
   "source": [
    "degenerate_code"
   ]
  },
  {
   "cell_type": "code",
   "execution_count": 52,
   "id": "e7ba9612-4bea-4b58-9128-f46aa6f960e9",
   "metadata": {},
   "outputs": [],
   "source": [
    "def get_codon_for_amino_acids(amino_acids):\n",
    "    \"\"\"\n",
    "    :param amino_acids: set\n",
    "        the amino acids we want to code for, i.e. {'A','I','V'}\n",
    "    :rtype: set, float\n",
    "        returns two values the set of most efficient codons for the input set list, e.g. {'RYA', 'RYH', 'RYC', 'RYW', 'RYM', 'RYY', 'RYT'} and the achieved efficiency e.g. 0.75\n",
    "    \"\"\"\n",
    "    logging.info(amino_acids)\n",
    "    codons = defaultdict(list)\n",
    "    for aa in amino_acids:\n",
    "        codons[aa] = aa2codon[aa]\n",
    "    logging.info(pformat(codons))\n"
   ]
  },
  {
   "cell_type": "code",
   "execution_count": 31,
   "id": "5a858ee7-e125-45d7-8bea-ce0a1df500b4",
   "metadata": {},
   "outputs": [
    {
     "name": "stderr",
     "output_type": "stream",
     "text": [
      "[19:11:22] {/var/folders/t0/mvqcnrsn7cb969y_xj3wlv1m0000gn/T/ipykernel_27809/2273614919.py:8} INFO - {'V', 'A', 'I'}\n",
      "[19:11:22] {/var/folders/t0/mvqcnrsn7cb969y_xj3wlv1m0000gn/T/ipykernel_27809/2273614919.py:12} INFO - defaultdict(<class 'list'>,\n",
      "            {'A': ['GCT', 'GCC', 'GCA', 'GCG'],\n",
      "             'I': ['ATT', 'ATC', 'ATA'],\n",
      "             'V': ['GTT', 'GTC', 'GTA', 'GTG']})\n"
     ]
    },
    {
     "ename": "AssertionError",
     "evalue": "",
     "output_type": "error",
     "traceback": [
      "\u001b[0;31m---------------------------------------------------------------------------\u001b[0m",
      "\u001b[0;31mAssertionError\u001b[0m                            Traceback (most recent call last)",
      "Input \u001b[0;32mIn [31]\u001b[0m, in \u001b[0;36m<cell line: 1>\u001b[0;34m()\u001b[0m\n\u001b[0;32m----> 1\u001b[0m \u001b[38;5;28;01massert\u001b[39;00m get_codon_for_amino_acids({\u001b[38;5;124m'\u001b[39m\u001b[38;5;124mA\u001b[39m\u001b[38;5;124m'\u001b[39m, \u001b[38;5;124m'\u001b[39m\u001b[38;5;124mI\u001b[39m\u001b[38;5;124m'\u001b[39m, \u001b[38;5;124m'\u001b[39m\u001b[38;5;124mV\u001b[39m\u001b[38;5;124m'\u001b[39m}) \u001b[38;5;241m==\u001b[39m ({\u001b[38;5;124m'\u001b[39m\u001b[38;5;124mRYA\u001b[39m\u001b[38;5;124m'\u001b[39m, \u001b[38;5;124m'\u001b[39m\u001b[38;5;124mRYH\u001b[39m\u001b[38;5;124m'\u001b[39m, \u001b[38;5;124m'\u001b[39m\u001b[38;5;124mRYC\u001b[39m\u001b[38;5;124m'\u001b[39m, \u001b[38;5;124m'\u001b[39m\u001b[38;5;124mRYW\u001b[39m\u001b[38;5;124m'\u001b[39m, \u001b[38;5;124m'\u001b[39m\u001b[38;5;124mRYM\u001b[39m\u001b[38;5;124m'\u001b[39m, \u001b[38;5;124m'\u001b[39m\u001b[38;5;124mRYY\u001b[39m\u001b[38;5;124m'\u001b[39m, \u001b[38;5;124m'\u001b[39m\u001b[38;5;124mRYT\u001b[39m\u001b[38;5;124m'\u001b[39m}, \u001b[38;5;241m0.75\u001b[39m)\n",
      "\u001b[0;31mAssertionError\u001b[0m: "
     ]
    }
   ],
   "source": [
    "assert get_codon_for_amino_acids({'A', 'I', 'V'}) == ({'RYA', 'RYH', 'RYC', 'RYW', 'RYM', 'RYY', 'RYT'}, 0.75)"
   ]
  },
  {
   "cell_type": "code",
   "execution_count": null,
   "id": "db85f98d-b95a-420d-8505-b69f65a26af6",
   "metadata": {},
   "outputs": [],
   "source": []
  },
  {
   "cell_type": "code",
   "execution_count": 102,
   "id": "30308cc5-6cee-43df-a48d-8200c13cc746",
   "metadata": {},
   "outputs": [
    {
     "name": "stdout",
     "output_type": "stream",
     "text": [
      "{'*': 'TRR',\n",
      " 'A': 'GCN',\n",
      " 'C': 'TGY',\n",
      " 'D': 'GAY',\n",
      " 'E': 'GAR',\n",
      " 'F': 'TTY',\n",
      " 'G': 'GGN',\n",
      " 'H': 'CAY',\n",
      " 'I': 'ATH',\n",
      " 'K': 'AAR',\n",
      " 'L': 'YTN',\n",
      " 'M': 'ATG',\n",
      " 'N': 'AAY',\n",
      " 'P': 'CCN',\n",
      " 'Q': 'CAR',\n",
      " 'R': 'MGN',\n",
      " 'S': 'WSN',\n",
      " 'T': 'ACN',\n",
      " 'V': 'GTN',\n",
      " 'W': 'TGG',\n",
      " 'Y': 'TAY'}\n"
     ]
    },
    {
     "data": {
      "text/plain": [
       "['W', 'T', frozenset({'G', 'Y'})]"
      ]
     },
     "execution_count": 102,
     "metadata": {},
     "output_type": "execute_result"
    }
   ],
   "source": [
    "amino_acids = {'A', 'I', 'V'}\n",
    "amino_acids = {'M', 'F'}\n",
    "codons = {}\n",
    "for aa in aa2codon.keys():\n",
    "    codons[aa] = ''.join([degenerate_code[x] for x in map(frozenset, zip(*aa2codon[aa]))])  # This gets the degenerate representation of the codon\n",
    "pprint(codons)\n",
    "\n",
    "[degenerate_code.get(x, x) for x in map(frozenset, zip(*[codons[aa] for aa in amino_acids]))]"
   ]
  },
  {
   "cell_type": "code",
   "execution_count": 13,
   "id": "39acd6a5-74ee-4c8c-be8a-bd1058b6d0e4",
   "metadata": {},
   "outputs": [
    {
     "data": {
      "text/plain": [
       "['ATT', 'ATC', 'ATA']"
      ]
     },
     "execution_count": 13,
     "metadata": {},
     "output_type": "execute_result"
    }
   ],
   "source": [
    "'GA' == R\n",
    "'TC' == Y\n",
    "'ACT' == H"
   ]
  },
  {
   "cell_type": "code",
   "execution_count": 55,
   "id": "da18d13b-2c8a-4f8e-a340-310cea21f1b4",
   "metadata": {},
   "outputs": [
    {
     "data": {
      "text/plain": [
       "defaultdict(list,\n",
       "            {'V': ['GTT', 'GTC', 'GTA', 'GTG'],\n",
       "             'A': ['GCT', 'GCC', 'GCA', 'GCG'],\n",
       "             'I': ['ATT', 'ATC', 'ATA']})"
      ]
     },
     "execution_count": 55,
     "metadata": {},
     "output_type": "execute_result"
    }
   ],
   "source": [
    "codons"
   ]
  },
  {
   "cell_type": "code",
   "execution_count": null,
   "id": "fd1c901c-6716-4907-b11c-7bcf792917b5",
   "metadata": {},
   "outputs": [],
   "source": []
  }
 ],
 "metadata": {
  "kernelspec": {
   "display_name": "Python 3 (ipykernel)",
   "language": "python",
   "name": "python3"
  },
  "language_info": {
   "codemirror_mode": {
    "name": "ipython",
    "version": 3
   },
   "file_extension": ".py",
   "mimetype": "text/x-python",
   "name": "python",
   "nbconvert_exporter": "python",
   "pygments_lexer": "ipython3",
   "version": "3.8.9"
  }
 },
 "nbformat": 4,
 "nbformat_minor": 5
}
